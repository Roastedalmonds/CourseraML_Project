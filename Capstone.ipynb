{
 "cells": [
  {
   "cell_type": "markdown",
   "metadata": {},
   "source": [
    "# Capstone Project - The Battle of the Neighborhoods (Week 1)\n",
    "* Applied Data Science Capstone by IBM/Coursera "
   ]
  },
  {
   "cell_type": "markdown",
   "metadata": {},
   "source": [
    "## Introduction: Business Problem"
   ]
  },
  {
   "cell_type": "markdown",
   "metadata": {},
   "source": [
    "### In this project we will try to study the rent prices variation of houses in different locations of a city. This report is targeted to the Rental House Property Business stakeholders who are willing to purchase estates in Mumbai city, India.\n",
    "\n",
    "### Very obvious statement can be made that bigger the house, higher is the rent price. Hence we will study houses with similar characteristics in terms of physical dimensions (i.e. carpet area) in the city with different rent price. We will classify houses on basis of their sizes and house type like apartments, row-house,etc. Within each class of houses we will find the key elements which increases the property value in that area.\n",
    "\n",
    "### Since there are lots of houses in Mumbai which are open for rent, we will try to detect locations which are a little bit secluded from other rental houses and also within the center of the city. Each area pointed out during the study for buying rental houses will have their own pros and cons expressed so that best possible final location can be chosen by stakeholders."
   ]
  },
  {
   "cell_type": "markdown",
   "metadata": {},
   "source": [
    "## Data"
   ]
  },
  {
   "cell_type": "markdown",
   "metadata": {},
   "source": [
    "###  Based on definition of our problem, factors that will influence our decission are:\n",
    "### 1] Dataset of available rental houses wihtin Mumbai city (latest as possible)\n",
    "### 2] Distance from other rental houses available within that region.\n",
    "### 3] Distance of selected region from the center of the city\n",
    "### 4] Venues surrounding the specific region willbe provided by Foursquare API"
   ]
  },
  {
   "cell_type": "code",
   "execution_count": null,
   "metadata": {},
   "outputs": [],
   "source": []
  }
 ],
 "metadata": {
  "kernelspec": {
   "display_name": "Python 3",
   "language": "python",
   "name": "python3"
  },
  "language_info": {
   "codemirror_mode": {
    "name": "ipython",
    "version": 3
   },
   "file_extension": ".py",
   "mimetype": "text/x-python",
   "name": "python",
   "nbconvert_exporter": "python",
   "pygments_lexer": "ipython3",
   "version": "3.6.5"
  }
 },
 "nbformat": 4,
 "nbformat_minor": 4
}
